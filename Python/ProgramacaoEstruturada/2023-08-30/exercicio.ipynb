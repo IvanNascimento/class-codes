{
 "cells": [
  {
   "cell_type": "markdown",
   "metadata": {},
   "source": [
    "# Exercicío Aula 5, Condicionais"
   ]
  },
  {
   "cell_type": "markdown",
   "metadata": {},
   "source": [
    "## Questão 1 ✔️\n",
    " - Escreva um programa que solicita um número ao usuário e determina se é positivo, negativo ou zero."
   ]
  },
  {
   "cell_type": "code",
   "execution_count": 7,
   "metadata": {},
   "outputs": [
    {
     "name": "stdout",
     "output_type": "stream",
     "text": [
      "15.00 é positivo\n"
     ]
    }
   ],
   "source": [
    "num = float(input('Informe o número: '))\n",
    "\n",
    "if (num > 0):\n",
    "    print(f'{num:,.2f} é positivo')\n",
    "elif(nume < 0):\n",
    "    print(f'{num:,.2f} é negativo')\n",
    "else:\n",
    "    print(f'{num:,.2f} é Zero')"
   ]
  },
  {
   "cell_type": "markdown",
   "metadata": {},
   "source": [
    "## Questão 2 ✔️\n",
    " - Verificação de Número Par/Ímpar: Crie um programa que pede ao usuário um número e verifica se ele é par ou ímpar."
   ]
  },
  {
   "cell_type": "code",
   "execution_count": 8,
   "metadata": {},
   "outputs": [
    {
     "name": "stdout",
     "output_type": "stream",
     "text": [
      "15 é ímpar\n"
     ]
    }
   ],
   "source": [
    "num = int(input('Informe o número: '))\n",
    "\n",
    "if(num % 2 == 0):\n",
    "    print(f'{num:,} é par')\n",
    "else:\n",
    "    print(f'{num:,} é ímpar')"
   ]
  },
  {
   "cell_type": "markdown",
   "metadata": {},
   "source": [
    "## Questão 3 ✔️\n",
    " - Calculadora Simples: Faça uma calculadora que pede ao usuário dois números e uma operação (+, -, *, /) e retorna o resultado dessa operação."
   ]
  },
  {
   "cell_type": "code",
   "execution_count": 10,
   "metadata": {},
   "outputs": [
    {
     "name": "stdout",
     "output_type": "stream",
     "text": [
      "15.00 + 25.00 = 40.00\n"
     ]
    }
   ],
   "source": [
    "num1 = float(input('Informe o 1° número: '))\n",
    "num2 = float(input('Informe o 2° número: '))\n",
    "op = input('Informe a operação: ')\n",
    "\n",
    "match (op):\n",
    "    case '+':\n",
    "        print(f'{num1:,.2f} + {num2:,.2f} = {num1+num2:,.2f}')\n",
    "    case '-':\n",
    "        print(f'{num1:,.2f} - {num2:,.2f} = {num1-num2:,.2f}')\n",
    "    case '*':\n",
    "        print(f'{num1:,.2f} * {num2:,.2f} = {num1*num2:,.2f}')\n",
    "    case '/':\n",
    "        print(f'{num1:,.2f} / {num2:,.2f} = {num1/num2:,.2f}')\n",
    "    case _:\n",
    "        print('Operação inválida')"
   ]
  },
  {
   "cell_type": "markdown",
   "metadata": {},
   "source": [
    "## Questão 4 ✔️\n",
    " - Maior de Três Números: Escreva um programa que solicita três números ao usuário e retorna o maior dentre eles."
   ]
  },
  {
   "cell_type": "code",
   "execution_count": 11,
   "metadata": {},
   "outputs": [
    {
     "name": "stdout",
     "output_type": "stream",
     "text": [
      "7.0 é o maior número.\n"
     ]
    }
   ],
   "source": [
    "num1 = float(input('Informe o 1° número: '))\n",
    "num2 = float(input('Informe o 2° número: '))\n",
    "num3 = float(input('Informe o 3° número: '))\n",
    "\n",
    "maior = max([num1, num2, num3])\n",
    "\n",
    "print(f'{maior} é o maior número.')"
   ]
  },
  {
   "cell_type": "markdown",
   "metadata": {},
   "source": [
    "## Questão 5 ✔️\n",
    " - Classificação de Idade: Peça a idade do usuário e classifique-a em \"Criança\" (0-12), \"Adolescente\" (13-19), \"Adulto\" (20-59) ou \"Idoso\" (60+)."
   ]
  },
  {
   "cell_type": "code",
   "execution_count": 14,
   "metadata": {},
   "outputs": [
    {
     "name": "stdout",
     "output_type": "stream",
     "text": [
      "Nasça primeiro, depois conversamos.\n"
     ]
    }
   ],
   "source": [
    "idade = int(input('Informe sua Idade: '))\n",
    "\n",
    "\n",
    "if (idade < 0):\n",
    "    print(f'Nasça primeiro, depois conversamos.')\n",
    "elif (idade <= 12):\n",
    "    print(f'Você é Criança.')\n",
    "elif (idade <= 19):\n",
    "    print(f'Você é Adolescente.')\n",
    "elif (idade <= 59):\n",
    "    print(f'Você é Adulto(a).')\n",
    "else:\n",
    "    print('Você é Idoso(a).')"
   ]
  },
  {
   "cell_type": "markdown",
   "metadata": {},
   "source": [
    "## Questão 6 ✔️\n",
    " - Verificação de Triângulo: Peça ao usuário o comprimento de três lados e verifique se eles podem formar um triângulo. Se sim, determine se é um triângulo equilátero, isósceles ou escaleno."
   ]
  },
  {
   "cell_type": "code",
   "execution_count": 16,
   "metadata": {},
   "outputs": [
    {
     "name": "stdout",
     "output_type": "stream",
     "text": [
      "Triângulo Isósceles.\n"
     ]
    }
   ],
   "source": [
    "lado1 = float(input('Informe o 1° lado: '))\n",
    "lado2 = float(input('Informe o 2° lado: '))\n",
    "lado3 = float(input('Informe o 3° lado: '))\n",
    "\n",
    "if(lado1 == lado2 and lado2 == lado3):\n",
    "    print(f'Triângulo Equilátero.')\n",
    "elif (lado1 != lado2 and lado1 != lado3 and lado2 != lado3):\n",
    "    print(f'Triângulo Escaleno.')\n",
    "else:\n",
    "    print(f'Triângulo Isósceles.')"
   ]
  },
  {
   "cell_type": "markdown",
   "metadata": {},
   "source": [
    "## Questão 7 ✔️\n",
    " - Conversão de Notas: Escreva um programa que converte uma nota de 0 a 100 em uma escala de conceitos: A (90-100), B (80-89), C (70-79), D (60-69) e F (0-59)."
   ]
  },
  {
   "cell_type": "code",
   "execution_count": 18,
   "metadata": {},
   "outputs": [
    {
     "name": "stdout",
     "output_type": "stream",
     "text": [
      "Nota: A\n"
     ]
    }
   ],
   "source": [
    "nota = int(input('Informe a nota: '))\n",
    "\n",
    "if(nota < 0):\n",
    "    print(f'Nota: G')\n",
    "elif (nota < 60):\n",
    "    print(f'Nota: F')\n",
    "elif (nota < 70):\n",
    "    print(f'Nota: D')\n",
    "elif (nota < 80):\n",
    "    print(f'Nota: C')\n",
    "elif (nota < 90):\n",
    "    print(f'Nota: B')\n",
    "else:\n",
    "    print(f'Nota: A')"
   ]
  },
  {
   "cell_type": "markdown",
   "metadata": {},
   "source": [
    "## Questão 8 ✔️\n",
    " - Validação de Login: Crie um programa que pede ao usuário um nome de usuário e uma senha. Se o nome de usuário for \"admin\" e a senha for \"12345\", exiba \n",
    "\"Acesso concedido\", caso contrário, exiba \"Acesso negado\"."
   ]
  },
  {
   "cell_type": "code",
   "execution_count": 19,
   "metadata": {},
   "outputs": [
    {
     "name": "stdout",
     "output_type": "stream",
     "text": [
      "Acesso concedido.\n"
     ]
    }
   ],
   "source": [
    "nome = input('Informe o usuário: ')\n",
    "senha = input('Informe a senha: ')\n",
    "\n",
    "if(nome == 'admin' and senha == '12345'):\n",
    "    print('Acesso concedido.')\n",
    "else:\n",
    "    print('Acesso negado.')"
   ]
  },
  {
   "cell_type": "markdown",
   "metadata": {},
   "source": [
    "## Questão 9 ✔️\n",
    " - Calculadora de IMC: Peça ao usuário seu peso e altura e calcule o índice de massa corporal (IMC). Em seguida, mostre uma mensagem indicando se a pessoa está abaixo do peso, com peso normal, com sobrepeso, obesa ou muito obesa."
   ]
  },
  {
   "cell_type": "code",
   "execution_count": 21,
   "metadata": {},
   "outputs": [
    {
     "name": "stdout",
     "output_type": "stream",
     "text": [
      "Sobrepeso\n"
     ]
    }
   ],
   "source": [
    "peso = float(input('Informe seu peso(kg): '))\n",
    "altura = float(input('Informe sua altura(m): '))\n",
    "\n",
    "imc = peso/(altura**2)\n",
    "\n",
    "if (imc <= 18.5):\n",
    "    print('Abaixo do peso.')\n",
    "elif (imc <= 24.9):\n",
    "    print('Peso normal')\n",
    "elif (imc <= 29.9):\n",
    "    print('Sobrepeso')\n",
    "elif (imc <= 34.9):\n",
    "    print('Obesidade 1° grau')\n",
    "elif (imc <= 39.9):\n",
    "    print('Obesidade 2° grau')\n",
    "else:\n",
    "    print('Obesidade 3° grau')"
   ]
  },
  {
   "cell_type": "markdown",
   "metadata": {},
   "source": [
    "## Questão 10 ✔️\n",
    " - Verificação de Ano Bissexto: Escreva um programa que verifica se um ano fornecido pelo usuário é bissexto ou não."
   ]
  },
  {
   "cell_type": "code",
   "execution_count": 28,
   "metadata": {},
   "outputs": [
    {
     "name": "stdout",
     "output_type": "stream",
     "text": [
      "2022 não é ano bissexto\n"
     ]
    }
   ],
   "source": [
    "ano = int(input('Informe o ano: '))\n",
    "\n",
    "div4 = ano % 4 == 0     # Divisivel por 4\n",
    "div100 = ano % 100 == 0 # Divisivel por 100\n",
    "div400 = ano % 400 == 0 # Divisivel por 400\n",
    "\n",
    "if(div4 and not div100 or div400):\n",
    "    print(f'{ano} é ano bissexto')\n",
    "else:\n",
    "    print(f'{ano} não é ano bissexto')"
   ]
  }
 ],
 "metadata": {
  "kernelspec": {
   "display_name": "Python 3",
   "language": "python",
   "name": "python3"
  },
  "language_info": {
   "codemirror_mode": {
    "name": "ipython",
    "version": 3
   },
   "file_extension": ".py",
   "mimetype": "text/x-python",
   "name": "python",
   "nbconvert_exporter": "python",
   "pygments_lexer": "ipython3",
   "version": "3.11.1"
  },
  "orig_nbformat": 4
 },
 "nbformat": 4,
 "nbformat_minor": 2
}
