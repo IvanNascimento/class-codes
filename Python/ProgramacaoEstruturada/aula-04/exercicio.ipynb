{
 "cells": [
  {
   "cell_type": "markdown",
   "metadata": {},
   "source": [
    "# Atividade da Aula 4, Strings"
   ]
  },
  {
   "cell_type": "markdown",
   "metadata": {},
   "source": [
    "# Criação, Acesso e Fatiamento"
   ]
  },
  {
   "cell_type": "markdown",
   "metadata": {},
   "source": [
    "### Questão 1 ✔️\n",
    "Crie uma string com seu nome completo e imprima somente o primeiro nome."
   ]
  },
  {
   "cell_type": "code",
   "execution_count": 1,
   "metadata": {},
   "outputs": [
    {
     "name": "stdout",
     "output_type": "stream",
     "text": [
      "Ivan\n"
     ]
    }
   ],
   "source": [
    "nome = \"Ivan Luís Silva do Nascimento\"\n",
    "print(nome[:4])"
   ]
  },
  {
   "cell_type": "markdown",
   "metadata": {},
   "source": [
    "### Questão 2 ✔️\n",
    "Dada a string \"Python é uma linguagem de programação\", imprima somente a palavra \"linguagem\"."
   ]
  },
  {
   "cell_type": "code",
   "execution_count": 3,
   "metadata": {},
   "outputs": [
    {
     "name": "stdout",
     "output_type": "stream",
     "text": [
      "linguagem\n"
     ]
    }
   ],
   "source": [
    "string = \"Python é uma linguagem de programação\"\n",
    "print(string[13:22])"
   ]
  },
  {
   "cell_type": "markdown",
   "metadata": {},
   "source": [
    "### Questão 3 ✔️\n",
    "Escreva um código que inverta uma string. Por exemplo, se a entrada for \"python\", a saída deve ser \"nohtyp\"."
   ]
  },
  {
   "cell_type": "code",
   "execution_count": 13,
   "metadata": {},
   "outputs": [
    {
     "name": "stdout",
     "output_type": "stream",
     "text": [
      "omordnilap\n"
     ]
    }
   ],
   "source": [
    "string = input('Informe a palavra: ')\n",
    "print(string[::-1])"
   ]
  },
  {
   "cell_type": "markdown",
   "metadata": {},
   "source": [
    "### Questão 4 ✔️\n",
    "Dada a string \"abcdefg\", use o operador de fatiamento para imprimir \"cde\"."
   ]
  },
  {
   "cell_type": "code",
   "execution_count": 6,
   "metadata": {},
   "outputs": [
    {
     "name": "stdout",
     "output_type": "stream",
     "text": [
      "cde\n"
     ]
    }
   ],
   "source": [
    "string = \"abcdefg\"\n",
    "print(string[2:5])"
   ]
  },
  {
   "cell_type": "markdown",
   "metadata": {},
   "source": [
    "### Questão 5 ✔️\n",
    "Escreva um programa que verifique se uma palavra é um palíndromo (lê-se igual de trás para frente). Exemplo: \"radar\"."
   ]
  },
  {
   "cell_type": "code",
   "execution_count": 9,
   "metadata": {},
   "outputs": [
    {
     "name": "stdout",
     "output_type": "stream",
     "text": [
      "radar é palíndromo\n"
     ]
    }
   ],
   "source": [
    "palavra = input('Informe a palavra: ')\n",
    "if(palavra == palavra[::-1]):\n",
    "    print('{} é palíndromo'.format(palavra))\n",
    "else:\n",
    "    print('{} não é palíndromo'.format(palavra))"
   ]
  },
  {
   "cell_type": "markdown",
   "metadata": {},
   "source": [
    "# Formatação"
   ]
  },
  {
   "cell_type": "markdown",
   "metadata": {},
   "source": [
    "### Questão 1 ✔️\n",
    "Escreva um programa que solicite ao usuário seu nome e idade e imprima uma mensagem formatada no seguinte formato: \"Olá, {nome}! Você tem {idade} anos.\""
   ]
  },
  {
   "cell_type": "code",
   "execution_count": 1,
   "metadata": {},
   "outputs": [
    {
     "name": "stdout",
     "output_type": "stream",
     "text": [
      "Olá, Ivan! Você tem 22 anos.\n"
     ]
    }
   ],
   "source": [
    "nome = input('informe seu nome: ')\n",
    "idade = int(input('informe sua idade: '))\n",
    "\n",
    "print('Olá, {nome}! Você tem {idade} anos.'.format(nome=nome,idade=idade))"
   ]
  },
  {
   "cell_type": "markdown",
   "metadata": {},
   "source": [
    "### Questão 2 ✔️\n",
    "Escreva um programa que solicite ao usuário dois números e imprima uma mensagem formatada mostrando a soma, subtração, multiplicação e divisão dos números. Por exemplo: \"A soma de {num1} e {num2} é {soma}.\""
   ]
  },
  {
   "cell_type": "code",
   "execution_count": 3,
   "metadata": {},
   "outputs": [
    {
     "name": "stdout",
     "output_type": "stream",
     "text": [
      "A soma de 15,006.50 e 2,500.81 é 17,507.31\n",
      "A subtração de 15,006.50 e 2,500.81 é 12,505.69\n",
      "A multiplicação de 15,006.50 e 2,500.81 é 37,528,352.74\n",
      "A divisão de 15,006.50 e 2,500.81 é 6.00\n"
     ]
    }
   ],
   "source": [
    "num1 = float(input('informe o 1° número: '))\n",
    "num2 = float(input('informe o 2° número: '))\n",
    "\n",
    "soma = num1 + num2\n",
    "subtracao = num1 - num2\n",
    "multiplicacao = num1 * num2\n",
    "divisao = num1 / num2\n",
    "\n",
    "print('A soma de {num1:,} e {num2:,} é {soma:,.2f}'.format(num1=num1, num2=num2, soma=soma))\n",
    "print('A subtração de {num1:,} e {num2:,} é {subtracao:,.2f}'.format(num1=num1, num2=num2, subtracao=subtracao))\n",
    "print('A multiplicação de {num1:,} e {num2:,} é {multiplicacao:,.2f}'.format(num1=num1, num2=num2, multiplicacao=multiplicacao))\n",
    "print('A divisão de {num1:,} e {num2:,} é {divisao:,.2f}'.format(num1=num1, num2=num2, divisao=divisao))"
   ]
  },
  {
   "cell_type": "markdown",
   "metadata": {},
   "source": [
    "### Questão 3 ✔️\n",
    "Escreva um programa que solicite ao usuário uma frase e substitua todas as vogais por asteriscos (*). Em seguida, imprima a frase formatada."
   ]
  },
  {
   "cell_type": "code",
   "execution_count": 5,
   "metadata": {},
   "outputs": [
    {
     "name": "stdout",
     "output_type": "stream",
     "text": [
      "m*nh* s*p*r h*p*r m*g* fr*s*\n"
     ]
    }
   ],
   "source": [
    "frase = input('Informe sua frase: ')\n",
    "\n",
    "nova_frase = frase\n",
    "nova_frase = nova_frase.replace('a', '*')\n",
    "nova_frase = nova_frase.replace('e', '*')\n",
    "nova_frase = nova_frase.replace('i', '*')\n",
    "nova_frase = nova_frase.replace('o', '*')\n",
    "nova_frase = nova_frase.replace('u', '*')\n",
    "\n",
    "print(\"Sua frase virou: {}\".format(nova_frase))"
   ]
  },
  {
   "cell_type": "markdown",
   "metadata": {},
   "source": [
    "### Questão 4 ✔️\n",
    "Escreva um programa que solicite ao usuário seu nome completo e imprima as iniciais de cada palavra em letras maiúsculas. Por exemplo, se o nome for \"Fulano de Tal\", o programa deve imprimir \"F.D.T.\"\n"
   ]
  },
  {
   "cell_type": "code",
   "execution_count": 12,
   "metadata": {},
   "outputs": [
    {
     "name": "stdout",
     "output_type": "stream",
     "text": [
      "I.L.S.D.N.\n"
     ]
    }
   ],
   "source": [
    "nome = input('Informe seu nome: ')\n",
    "\n",
    "lista = nome.split()\n",
    "lista = [i.capitalize()[0] for i in lista]\n",
    "\n",
    "print(\"{}.\".format('.'.join(lista)))"
   ]
  },
  {
   "cell_type": "markdown",
   "metadata": {},
   "source": [
    "### Questão 5 ✔️\n",
    "Escreva um programa que solicite ao usuário uma quantidade de horas, minutos e segundos, e imprima uma mensagem formatada mostrando o total de segundos. Por exemplo: \"O total de segundos é {total_segundos}.\""
   ]
  },
  {
   "cell_type": "code",
   "execution_count": 13,
   "metadata": {},
   "outputs": [
    {
     "name": "stdout",
     "output_type": "stream",
     "text": [
      "O total de segundos é 21330\n"
     ]
    }
   ],
   "source": [
    "horas = int(input('Informe as horas: '))\n",
    "mins = int(input('Informe os minutos: '))\n",
    "seg = int(input('Informe os segundos: '))\n",
    "\n",
    "total = horas * 60 * 60\n",
    "total += mins * 60\n",
    "total += seg\n",
    "\n",
    "print('O total de segundos é {total_segundos}'.format(total_segundos=total))"
   ]
  },
  {
   "cell_type": "markdown",
   "metadata": {},
   "source": [
    "### Questão 6 ✔️\n",
    "Escreva um programa que solicite ao usuário uma frase e imprima uma mensagem formatada mostrando a quantidade de caracteres, palavras e linhas na frase."
   ]
  },
  {
   "cell_type": "code",
   "execution_count": 19,
   "metadata": {},
   "outputs": [
    {
     "name": "stdout",
     "output_type": "stream",
     "text": [
      "minha frase de teste \n",
      "\tA frase informada tem: \n",
      "\t 20 caracter(es)\n",
      "\t 4 palavra(s)\n",
      "\t 1 linha(s)\n"
     ]
    }
   ],
   "source": [
    "frase = input('Informe a frase: ')\n",
    "\n",
    "caracteres = len(frase.strip())\n",
    "palavras = len(frase.split())\n",
    "linhas = len(frase.splitlines())\n",
    "\n",
    "print('{} \\n\\tA frase informada tem: '.format(frase))\n",
    "print('\\t {} caracter(es)'.format(caracteres))\n",
    "print('\\t {} palavra(s)'.format(palavras))\n",
    "print('\\t {} linha(s)'.format(linhas))"
   ]
  },
  {
   "cell_type": "markdown",
   "metadata": {},
   "source": [
    "### Questão 7 ✔️\n",
    "Escreva um programa que solicite ao usuário um número decimal e imprima uma mensagem formatada mostrando o número com duas casas decimais."
   ]
  },
  {
   "cell_type": "code",
   "execution_count": 21,
   "metadata": {},
   "outputs": [
    {
     "name": "stdout",
     "output_type": "stream",
     "text": [
      "55,000,646.65\n"
     ]
    }
   ],
   "source": [
    "num = float(input('Informe o número: '))\n",
    "\n",
    "print('{numero:,.2f}'.format(numero=num))"
   ]
  },
  {
   "cell_type": "markdown",
   "metadata": {},
   "source": [
    "### Questão 8 ✔️\n",
    "Escreva um programa que solicite ao usuário uma palavra e imprima uma mensagem formatada mostrando a palavra em caixa alta e caixa baixa.\n"
   ]
  },
  {
   "cell_type": "code",
   "execution_count": 24,
   "metadata": {},
   "outputs": [
    {
     "name": "stdout",
     "output_type": "stream",
     "text": [
      "Pula Filha da pula em caixa alta é PULA FILHA DA PULA\n",
      "Pula Filha da pula em caixa baixa é pula filha da pula\n"
     ]
    }
   ],
   "source": [
    "palavra = input('Informe a palavra: ')\n",
    "\n",
    "alta = palavra.upper()\n",
    "baixa = palavra.lower()\n",
    "\n",
    "print('{palavra} em caixa alta é {alta}'.format(palavra=palavra, alta=alta))\n",
    "print('{palavra} em caixa baixa é {baixa}'.format(palavra=palavra, baixa=baixa))"
   ]
  },
  {
   "cell_type": "markdown",
   "metadata": {},
   "source": [
    "### Questão 9 ✔️\n",
    "Escreva um programa que solicite ao usuário um nome e um número inteiro e imprima uma mensagem formatada repetindo o nome o número de vezes especificado. Por exemplo, se o nome for \"João\" e o número for 3, o programa deve imprimir \"JoãoJoãoJoão\"."
   ]
  },
  {
   "cell_type": "code",
   "execution_count": 26,
   "metadata": {},
   "outputs": [
    {
     "name": "stdout",
     "output_type": "stream",
     "text": [
      "IvanIvanIvanIvan\n"
     ]
    }
   ],
   "source": [
    "nome = input('Informe o nome: ')\n",
    "num = int(input('Informe o número: '))\n",
    "\n",
    "resultado = nome*num\n",
    "print(resultado)"
   ]
  },
  {
   "cell_type": "markdown",
   "metadata": {},
   "source": [
    "# Manipulação"
   ]
  },
  {
   "cell_type": "markdown",
   "metadata": {},
   "source": [
    "### Questão 1 ✔️\n",
    "Escreva um programa que peça ao usuário para digitar seu nome completo e imprima apenas o primeiro nome.\n"
   ]
  },
  {
   "cell_type": "code",
   "execution_count": 27,
   "metadata": {},
   "outputs": [
    {
     "name": "stdout",
     "output_type": "stream",
     "text": [
      "Seu primeiro nome é: Ivan\n"
     ]
    }
   ],
   "source": [
    "nome = input('Informe seu nome: ')\n",
    "\n",
    "nome1 = nome[:nome.find(' ')]\n",
    "\n",
    "print('Seu primeiro nome é: {nome}'.format(nome=nome1))"
   ]
  },
  {
   "cell_type": "markdown",
   "metadata": {},
   "source": [
    "### Questão 2 ✔️\n",
    "Escreva um programa que solicite ao usuário para digitar uma frase e conte quantas palavras existem na frase.\n"
   ]
  },
  {
   "cell_type": "code",
   "execution_count": 28,
   "metadata": {},
   "outputs": [
    {
     "name": "stdout",
     "output_type": "stream",
     "text": [
      "\"Minhas mega hyper super frase de teste\" tem 7 palavras\n"
     ]
    }
   ],
   "source": [
    "frase = input('Informe a frase: ')\n",
    "\n",
    "palavras = len(frase.split())\n",
    "\n",
    "print('\"{frase}\" tem {cont} palavras'.format(frase=frase, cont=palavras))"
   ]
  },
  {
   "cell_type": "markdown",
   "metadata": {},
   "source": [
    "### Questão 3 ✔️\n",
    "Escreva um programa que solicite ao usuário para digitar uma frase e verifique se ela termina com um ponto final.\n"
   ]
  },
  {
   "cell_type": "code",
   "execution_count": 30,
   "metadata": {},
   "outputs": [
    {
     "name": "stdout",
     "output_type": "stream",
     "text": [
      "\"teste \" não termina com ponto final.\n"
     ]
    }
   ],
   "source": [
    "frase = input('Informe a frase: ')\n",
    "\n",
    "ponto = frase.endswith('.')\n",
    "\n",
    "if(ponto):\n",
    "    print('\"{}\" termina com ponto final.'.format(frase))\n",
    "else:\n",
    "    print('\"{}\" não termina com ponto final.'.format(frase))"
   ]
  },
  {
   "cell_type": "markdown",
   "metadata": {},
   "source": [
    "### Questão 4 ✔️\n",
    "Escreva um programa que solicite ao usuário para digitar uma frase e verifique se ela contém a palavra \"Python\".\n"
   ]
  },
  {
   "cell_type": "code",
   "execution_count": 32,
   "metadata": {},
   "outputs": [
    {
     "name": "stdout",
     "output_type": "stream",
     "text": [
      "\"frase de teste com Python\" contém a palavra \"Python\"\n"
     ]
    }
   ],
   "source": [
    "frase = input('Informe a frase: ')\n",
    "\n",
    "tem = 'Python' in frase or 'python' in frase\n",
    "\n",
    "if(tem):\n",
    "    print('\"{}\" contém a palavra \"Python\"'.format(frase))\n",
    "else:\n",
    "    print('\"{}\" não contém a palavra \"Python\"'.format(frase))"
   ]
  },
  {
   "cell_type": "markdown",
   "metadata": {},
   "source": [
    "### Questão 5 ✔️\n",
    "Escreva um programa que solicite ao usuário para digitar uma frase e substitua todas as ocorrências da letra \"a\" por \"@\".\n"
   ]
  },
  {
   "cell_type": "code",
   "execution_count": 34,
   "metadata": {},
   "outputs": [
    {
     "name": "stdout",
     "output_type": "stream",
     "text": [
      "@@@@@@@@@@@m@nh@ de m@nh@\n"
     ]
    }
   ],
   "source": [
    "frase = input('Informe a frase: ')\n",
    "\n",
    "nova_frase = frase.replace('a', '@')\n",
    "\n",
    "print(nova_frase)"
   ]
  },
  {
   "cell_type": "markdown",
   "metadata": {},
   "source": [
    "### Questão 6 ✔️\n",
    "Escreva um programa que solicite ao usuário para digitar seu nome e imprima-o em formato invertido. Por exemplo, se o nome for \"João Silva\", o programa deve imprimir \"avliS oãoJ\".\n"
   ]
  },
  {
   "cell_type": "code",
   "execution_count": 35,
   "metadata": {},
   "outputs": [
    {
     "name": "stdout",
     "output_type": "stream",
     "text": [
      "otnemicsaN navI\n"
     ]
    }
   ],
   "source": [
    "nome = input('informe o nome: ')\n",
    "\n",
    "print(nome[::-1])"
   ]
  },
  {
   "cell_type": "markdown",
   "metadata": {},
   "source": [
    "### Questão 7 ✔️\n",
    "Escreva um programa que solicite ao usuário para digitar uma frase e conte quantas vezes uma determinada letra aparece na frase.\n"
   ]
  },
  {
   "cell_type": "code",
   "execution_count": 36,
   "metadata": {},
   "outputs": [
    {
     "name": "stdout",
     "output_type": "stream",
     "text": [
      "\"a\" aparece 3 vezes em \"Minha mega frase de testes\"\n"
     ]
    }
   ],
   "source": [
    "frase = input('Informe uma frase: ')\n",
    "letra = input('Informe a letra: ')\n",
    "\n",
    "qtd = frase.count(letra)\n",
    "\n",
    "print('\"{letra}\" aparece {qtd} vezes em \"{frase}\"'.format(letra=letra, qtd=qtd, frase=frase))"
   ]
  },
  {
   "cell_type": "markdown",
   "metadata": {},
   "source": [
    "### Questão 8 ✔️\n",
    "Escreva um programa que solicite ao usuário para digitar uma frase e verifique se todas as palavras estão em letras maiúsculas.\n"
   ]
  },
  {
   "cell_type": "code",
   "execution_count": 37,
   "metadata": {},
   "outputs": [
    {
     "name": "stdout",
     "output_type": "stream",
     "text": [
      "Nem todas as palavras estão em maiúsculo.\n"
     ]
    }
   ],
   "source": [
    "frase = input('Informe a frase: ')\n",
    "\n",
    "verifica = frase == frase.upper()\n",
    "\n",
    "if(verifica):\n",
    "    print('Todas as palavras estão em maiúsculo.')\n",
    "else:\n",
    "    print('Nem todas as palavras estão em maiúsculo.')"
   ]
  },
  {
   "cell_type": "markdown",
   "metadata": {},
   "source": [
    "### Questão 9 ✔️\n",
    "Escreva um programa que solicite ao usuário para digitar uma palavra e verifique se ela é um palíndromo.\n"
   ]
  },
  {
   "cell_type": "code",
   "execution_count": 39,
   "metadata": {},
   "outputs": [
    {
     "name": "stdout",
     "output_type": "stream",
     "text": [
      "\"João\" não é palíndromo.\n"
     ]
    }
   ],
   "source": [
    "palavra = input('Informe a palavra: ')\n",
    "\n",
    "verifica = palavra == palavra[::-1]\n",
    "\n",
    "if(verifica):\n",
    "    print('\"{}\" é palíndromo.'.format(palavra.capitalize()))\n",
    "else:\n",
    "    print('\"{}\" não é palíndromo.'.format(palavra.capitalize()))"
   ]
  },
  {
   "cell_type": "markdown",
   "metadata": {},
   "source": [
    "### Questão 10 ✔️\n",
    "Escreva um programa que solicite ao usuário para digitar seu endereço de e-mail e extraia o nome de usuário (parte antes do \"@\") e o domínio (parte depois do \"@\").\n"
   ]
  },
  {
   "cell_type": "code",
   "execution_count": 40,
   "metadata": {},
   "outputs": [
    {
     "name": "stdout",
     "output_type": "stream",
     "text": [
      "\"ivanluis431@gmail.com\" tem como nome de usuário: ivanluis431 e domínio: gmail.com\n"
     ]
    }
   ],
   "source": [
    "email = input('Informe o e-mail: ')\n",
    "\n",
    "position = email.find('@')\n",
    "nome = email[:position]\n",
    "dominio = email[position+1:]\n",
    "\n",
    "print('\"{}\" tem como nome de usuário: {} e domínio: {}'.format(email, nome, dominio))"
   ]
  },
  {
   "cell_type": "markdown",
   "metadata": {},
   "source": [
    "# Métodos"
   ]
  },
  {
   "cell_type": "markdown",
   "metadata": {},
   "source": [
    "### Questão 1 ✔️\n",
    "Escreva um programa que remova todos os espaços em branco de uma string."
   ]
  },
  {
   "cell_type": "code",
   "execution_count": 7,
   "metadata": {},
   "outputs": [
    {
     "name": "stdout",
     "output_type": "stream",
     "text": [
      "sada  sad\n"
     ]
    }
   ],
   "source": [
    "string = str(input('Informe a frase: '))\n",
    "saida = string.strip()\n",
    "print(saida)"
   ]
  },
  {
   "cell_type": "markdown",
   "metadata": {},
   "source": [
    "### Questão 2 ✔️\n",
    "Escreva um programa que peça ao usuário para digitar uma frase e imprima o número de caracteres na frase.\n"
   ]
  },
  {
   "cell_type": "code",
   "execution_count": 42,
   "metadata": {},
   "outputs": [
    {
     "name": "stdout",
     "output_type": "stream",
     "text": [
      "\"minha mega frase de testes\" tem 26 caracteres\n"
     ]
    }
   ],
   "source": [
    "frase = input('Informe a frase: ')\n",
    "\n",
    "caracteres = len(frase.strip())\n",
    "\n",
    "print('\"{}\" tem {} caracteres'.format(frase, caracteres))"
   ]
  },
  {
   "cell_type": "markdown",
   "metadata": {},
   "source": [
    "### Questão 3 ✔️\n",
    "Escreva um programa que solicite ao usuário para digitar seu nome em letras minúsculas e, em seguida, imprima o nome com a primeira letra em maiúscula.\n"
   ]
  },
  {
   "cell_type": "code",
   "execution_count": 44,
   "metadata": {},
   "outputs": [
    {
     "name": "stdout",
     "output_type": "stream",
     "text": [
      "Ivan\n"
     ]
    }
   ],
   "source": [
    "nome = input('Informe seu nome: ')\n",
    "\n",
    "saida = nome.capitalize()\n",
    "\n",
    "print(saida)"
   ]
  },
  {
   "cell_type": "markdown",
   "metadata": {},
   "source": [
    "### Questão 4 ✔️\n",
    "Escreva um programa que solicite ao usuário para digitar uma frase e, em seguida, imprima a frase em todas as letras maiúsculas e todas as letras minúsculas.\n"
   ]
  },
  {
   "cell_type": "code",
   "execution_count": 45,
   "metadata": {},
   "outputs": [
    {
     "name": "stdout",
     "output_type": "stream",
     "text": [
      "\"Minha Mega Frase de teste\" em: \n",
      "\t Maiúsculo: MINHA MEGA FRASE DE TESTE\n",
      "\t Minúsculo: minha mega frase de teste\n"
     ]
    }
   ],
   "source": [
    "frase = input('Informe a frase: ')\n",
    "\n",
    "maiusculo = frase.upper()\n",
    "minusculo = frase.lower()\n",
    "\n",
    "print('\"{}\" em: '.format(frase))\n",
    "print('\\t Maiúsculo: {}'.format(maiusculo))\n",
    "print('\\t Minúsculo: {}'.format(minusculo))"
   ]
  },
  {
   "cell_type": "markdown",
   "metadata": {},
   "source": [
    "### Questão 5 ✔️\n",
    "Escreva um programa que solicite ao usuário para digitar uma frase e, em seguida, divida a frase em palavras individuais e as imprima em linhas separadas.\n"
   ]
  },
  {
   "cell_type": "code",
   "execution_count": 46,
   "metadata": {},
   "outputs": [
    {
     "name": "stdout",
     "output_type": "stream",
     "text": [
      "Minha\n",
      "Frase\n",
      "de\n",
      "teste\n",
      "hyper\n",
      "mega\n"
     ]
    }
   ],
   "source": [
    "frase = input('Informe a frase: ')\n",
    "\n",
    "palavras = frase.split()\n",
    "\n",
    "for i in palavras:\n",
    "    print(i)"
   ]
  },
  {
   "cell_type": "markdown",
   "metadata": {},
   "source": [
    "### Questão 6 ✔️\n",
    "Escreva um programa que substitua todas as ocorrências de uma determinada palavra em uma frase por outra palavra fornecida pelo usuário.\n"
   ]
  },
  {
   "cell_type": "code",
   "execution_count": 48,
   "metadata": {},
   "outputs": [
    {
     "name": "stdout",
     "output_type": "stream",
     "text": [
      "Mega frase de teste\n"
     ]
    }
   ],
   "source": [
    "frase = input('Informe a frase: ')\n",
    "asubs = input('Informe a palavra a ser substituida: ')\n",
    "subs = input('Informe a substituta: ')\n",
    "\n",
    "resultado = frase.replace(asubs, subs)\n",
    "\n",
    "print(resultado)"
   ]
  },
  {
   "cell_type": "markdown",
   "metadata": {},
   "source": [
    "### Questão 7 ✔️\n",
    "Escreva um programa que peça ao usuário para digitar seu nome completo e, em seguida, imprima apenas o sobrenome.\n"
   ]
  },
  {
   "cell_type": "code",
   "execution_count": 49,
   "metadata": {},
   "outputs": [
    {
     "name": "stdout",
     "output_type": "stream",
     "text": [
      "Nascimento\n"
     ]
    }
   ],
   "source": [
    "nome = input('Informe seu nome: ')\n",
    "\n",
    "ultimo = nome[nome.rindex(' ')+1:]\n",
    "\n",
    "print(ultimo)"
   ]
  },
  {
   "cell_type": "markdown",
   "metadata": {},
   "source": [
    "### Questão 8 ✔️\n",
    "Escreva um programa que solicite ao usuário para digitar uma palavra e, em seguida, verifique se a palavra é um palíndromo (ou seja, se pode ser lida da mesma forma da esquerda para a direita e vice-versa).\n"
   ]
  },
  {
   "cell_type": "code",
   "execution_count": 50,
   "metadata": {},
   "outputs": [
    {
     "name": "stdout",
     "output_type": "stream",
     "text": [
      "Não é Palíndromo\n"
     ]
    }
   ],
   "source": [
    "palavra = input('Informe a palavra: ')\n",
    "\n",
    "verifica = palavra == palavra[::-1]\n",
    "\n",
    "if(verifica):\n",
    "    print('É Palíndromo')\n",
    "else:\n",
    "    print('Não é Palíndromo')"
   ]
  },
  {
   "cell_type": "markdown",
   "metadata": {},
   "source": [
    "### Questão 9 ✔️\n",
    "Crie uma função que receba uma frase e retorne a mesma frase com todas as vogais substituídas por asteriscos (*).\n"
   ]
  },
  {
   "cell_type": "code",
   "execution_count": 52,
   "metadata": {},
   "outputs": [],
   "source": [
    "def asterisco(frase):\n",
    "    resultado = frase.replace('a', '*')\n",
    "    resultado = resultado.replace('e', '*')\n",
    "    resultado = resultado.replace('i', '*')\n",
    "    resultado = resultado.replace('o', '*')\n",
    "    resultado = resultado.replace('u', '*')\n",
    "    \n",
    "    return resultado"
   ]
  },
  {
   "cell_type": "markdown",
   "metadata": {},
   "source": [
    "### Questão 10 ✔️\n",
    "Escreva um código que capitalize a primeira letra de cada palavra em uma frase. Exemplo: \"python é incrível\" deve se tornar \"Python É Incrível\".\n"
   ]
  },
  {
   "cell_type": "code",
   "execution_count": 53,
   "metadata": {},
   "outputs": [
    {
     "name": "stdout",
     "output_type": "stream",
     "text": [
      "Ivan Silva\n"
     ]
    }
   ],
   "source": [
    "frase = input('Informe a frase: ')\n",
    "\n",
    "__temp = frase.split()\n",
    "__temp = [i.capitalize() for i in __temp]\n",
    "\n",
    "nova_frase = ' '.join(__temp)\n",
    "\n",
    "print(nova_frase)"
   ]
  },
  {
   "cell_type": "markdown",
   "metadata": {},
   "source": [
    "### Questão 11 ✔️\n",
    "Dada uma lista de strings, ordene-a em ordem crescente de comprimento das strings.\n"
   ]
  },
  {
   "cell_type": "code",
   "execution_count": 55,
   "metadata": {},
   "outputs": [
    {
     "name": "stdout",
     "output_type": "stream",
     "text": [
      "['bc', 'aaa', 'bbbb', 'vvvvv']\n"
     ]
    }
   ],
   "source": [
    "lista = ['aaa', 'bbbb', 'vvvvv', 'bc']\n",
    "\n",
    "def criteria(e):\n",
    "    return len(e)\n",
    "\n",
    "lista.sort(key=criteria)\n",
    "\n",
    "print(lista)"
   ]
  },
  {
   "cell_type": "markdown",
   "metadata": {},
   "source": [
    "### Questão 12 ✔️\n",
    "Escreva um programa que solicite ao usuário para digitar uma frase e, em seguida, conte quantas vezes uma determinada letra aparece na frase.\n"
   ]
  },
  {
   "cell_type": "code",
   "execution_count": 56,
   "metadata": {},
   "outputs": [
    {
     "name": "stdout",
     "output_type": "stream",
     "text": [
      "4\n"
     ]
    }
   ],
   "source": [
    "frase = input('Informe a frase: ')\n",
    "letra = 'b'\n",
    "\n",
    "qtd = frase.count(letra)\n",
    "\n",
    "print(qtd)"
   ]
  },
  {
   "cell_type": "markdown",
   "metadata": {},
   "source": [
    "### Questão 13 ✔️\n",
    "Escreva um programa que solicite ao usuário para digitar seu nome e, em seguida, imprima as iniciais do nome em letras maiúsculas.\n"
   ]
  },
  {
   "cell_type": "code",
   "execution_count": 57,
   "metadata": {},
   "outputs": [
    {
     "name": "stdout",
     "output_type": "stream",
     "text": [
      "ILSDN\n"
     ]
    }
   ],
   "source": [
    "nome = input('Informe o nome: ')\n",
    "\n",
    "__temp = nome.split()\n",
    "\n",
    "iniciais = [i[0].capitalize() for i in __temp]\n",
    "\n",
    "print(''.join(iniciais))"
   ]
  },
  {
   "cell_type": "markdown",
   "metadata": {},
   "source": [
    "### Questão 14 ✔️\n",
    "Escreva um programa que solicite ao usuário para digitar uma frase e, em seguida, imprima a frase invertida."
   ]
  },
  {
   "cell_type": "code",
   "execution_count": 59,
   "metadata": {},
   "outputs": [
    {
     "name": "stdout",
     "output_type": "stream",
     "text": [
      "etset ed esarf ahnim\n"
     ]
    }
   ],
   "source": [
    "frase = input('Informe a frase: ')\n",
    "\n",
    "print(frase[::-1])"
   ]
  }
 ],
 "metadata": {
  "kernelspec": {
   "display_name": "Python 3",
   "language": "python",
   "name": "python3"
  },
  "language_info": {
   "codemirror_mode": {
    "name": "ipython",
    "version": 3
   },
   "file_extension": ".py",
   "mimetype": "text/x-python",
   "name": "python",
   "nbconvert_exporter": "python",
   "pygments_lexer": "ipython3",
   "version": "3.11.2"
  },
  "orig_nbformat": 4
 },
 "nbformat": 4,
 "nbformat_minor": 2
}
