{
 "cells": [
  {
   "cell_type": "markdown",
   "metadata": {},
   "source": [
    "# Sintaxe e estilo\n",
    "  Atividade da Aula 3 "
   ]
  },
  {
   "cell_type": "markdown",
   "metadata": {},
   "source": [
    "### Questão 1\n",
    "#### Descrição\n",
    "  Descreva o processo de criação de um ambiente virtual em Python e por que isso pode ser útil em projetos com diferentes dependências."
   ]
  },
  {
   "cell_type": "markdown",
   "metadata": {},
   "source": [
    "### Questão 2\n",
    "#### Descrição\n",
    "Discuta a importância das anotações de tipo (type hints) na linguagem Python e explique como elas podem ajudar no desenvolvimento de código."
   ]
  },
  {
   "cell_type": "markdown",
   "metadata": {},
   "source": [
    "### Questão 3\n",
    "#### Descrição:\n",
    "  Escreva um programa que solicite ao usuário o seu nome e a sua idade, armazenando esses valores em variáveis.\n",
    "  Em seguida, imprima uma mensagem formatada mostrando o nome e a idade do usuário."
   ]
  },
  {
   "cell_type": "code",
   "execution_count": 1,
   "metadata": {},
   "outputs": [
    {
     "name": "stdout",
     "output_type": "stream",
     "text": [
      "Seu nome é Ivan, você tem 22 anos\n"
     ]
    }
   ],
   "source": [
    "nome = input('Digite seu nome: ')\n",
    "idade = input('Digite sua idade: ')\n",
    "string = 'Seu nome é {}, você tem {} anos'.format(nome.capitalize() , idade)\n",
    "print(string)"
   ]
  },
  {
   "cell_type": "markdown",
   "metadata": {},
   "source": [
    "### Questão 4\n",
    "#### Descrição:\n",
    "  Escreva um programa que solicite ao usuário dois números inteiros e armazene-os em variáveis.\n",
    "  Em seguida, calcule e imprima a soma, subtração, multiplicação e divisão desses números."
   ]
  },
  {
   "cell_type": "code",
   "execution_count": 2,
   "metadata": {},
   "outputs": [
    {
     "name": "stdout",
     "output_type": "stream",
     "text": [
      "Operações: \n",
      "\t15 + 58 = 73\n",
      "\t15 - 58 = -43\n",
      "\t15 * 58 = 870\n",
      "\t15 / 58 = 0.25862068965517243\n"
     ]
    }
   ],
   "source": [
    "num1 = int(input('1° número: '))\n",
    "num2 = int(input('2° número: '))\n",
    "soma = '{} + {} = {}'.format(num1, num2, num1 + num2)\n",
    "sub = '{} - {} = {}'.format(num1, num2, num1 - num2)\n",
    "mult = '{} * {} = {}'.format(num1, num2, num1 * num2)\n",
    "divs = '{} / {} = {}'.format(num1, num2, num1 / num2)\n",
    "print('Operações: ')\n",
    "print('\\t'+soma)\n",
    "print('\\t'+sub)\n",
    "print('\\t'+mult)\n",
    "print('\\t'+divs)"
   ]
  },
  {
   "cell_type": "markdown",
   "metadata": {},
   "source": [
    "### Questão 5\n",
    "#### Descrição:\n",
    "  Escreva um programa que solicite ao usuário o raio de um círculo e calcule a área e o perímetro desse círculo.\n",
    "  Imprima os resultados formatados."
   ]
  },
  {
   "cell_type": "code",
   "execution_count": 6,
   "metadata": {},
   "outputs": [
    {
     "name": "stdout",
     "output_type": "stream",
     "text": [
      "Resultados\n",
      "\tÁrea do círculo: π*5.0**2 = 78.54 μm\n",
      "\tPerímetro do círculo: 2π*5.0 = 31.42 μm\n"
     ]
    }
   ],
   "source": [
    "from math import pi\n",
    "\n",
    "raio = float(input('informe raio do círculo: '))\n",
    "area = 'Área do círculo: π*{}**2 = {:0.2f} μm'.format(raio, pi*raio**2)\n",
    "perimetro = 'Perímetro do círculo: 2π*{} = {:0.2f} μm'.format(raio, 2*pi*raio)\n",
    "print('Resultados')\n",
    "print(\"\\t\"+area)\n",
    "print('\\t'+perimetro)"
   ]
  },
  {
   "cell_type": "markdown",
   "metadata": {},
   "source": [
    "### Questão 6\n",
    "#### Descrição:\n",
    "  Escreva um programa que solicite ao usuário uma temperatura em graus Celsius e converta-a para Fahrenheit.\n",
    "  Imprima o resultado formatado."
   ]
  },
  {
   "cell_type": "code",
   "execution_count": 7,
   "metadata": {},
   "outputs": [
    {
     "name": "stdout",
     "output_type": "stream",
     "text": [
      "30.00 °C = 86.00 °F\n"
     ]
    }
   ],
   "source": [
    "grau = float(input('Informe a temperatura: '))\n",
    "fahrenheit = \"{:0.2f} °C = {:0.2f} °F\".format(grau, grau * (9/5) + 32)\n",
    "print(fahrenheit)"
   ]
  },
  {
   "cell_type": "markdown",
   "metadata": {},
   "source": [
    "### Questão 7\n",
    "#### Descrição:\n",
    "  Escreva um programa que solicite ao usuário o seu salário mensal e o número de meses trabalhados no ano.\n",
    "  Calcule e imprima o salário anual."
   ]
  },
  {
   "cell_type": "code",
   "execution_count": 9,
   "metadata": {},
   "outputs": [
    {
     "name": "stdout",
     "output_type": "stream",
     "text": [
      "R$ 2,564.50 durante 8 meses da R$ 20,516.00 anualmente\n"
     ]
    }
   ],
   "source": [
    "moeda = 'R$'\n",
    "salario = float(input('informe o salário mensal: '))\n",
    "meses = int(input('Durante X meses: '))\n",
    "anual = '{m} {s:,.2f} durante {mes} meses da {m} {a:,.2f} anualmente'.format(m=moeda, s=salario, mes=meses, a=salario*meses)\n",
    "print(anual)"
   ]
  },
  {
   "cell_type": "markdown",
   "metadata": {},
   "source": [
    "### Questão 8\n",
    "#### Descrição:    \n",
    "  Escreva um programa que solicite ao usuário um número e verifique se ele é par ou ímpar.\n",
    "  Imprima uma mensagem informando o resultado."
   ]
  },
  {
   "cell_type": "code",
   "execution_count": 10,
   "metadata": {},
   "outputs": [
    {
     "name": "stdout",
     "output_type": "stream",
     "text": [
      "8 é Par\n"
     ]
    }
   ],
   "source": [
    "par = 'Ímpar'\n",
    "num = int(input('Informe seu número: '))\n",
    "if(num%2 == 0):\n",
    "    par = 'Par'\n",
    "string = '{} é {}'.format(num, par)\n",
    "print(string)"
   ]
  },
  {
   "cell_type": "markdown",
   "metadata": {},
   "source": [
    "### Questão 9\n",
    "#### Descrição:\n",
    "  Escreva um programa que solicite ao usuário dois valores booleanos (True ou False) e armazene-os em variáveis.\n",
    "  Em seguida, aplique os operadores lógicos \"and\", \"or\" e \"not\" entre essas variáveis e imprima os resultados."
   ]
  },
  {
   "cell_type": "code",
   "execution_count": 11,
   "metadata": {},
   "outputs": [
    {
     "name": "stdout",
     "output_type": "stream",
     "text": [
      "Resultados\n",
      "\tTrue and False = False\n",
      "\tTrue or False = True\n",
      "\tnot True = False\n",
      "\tnot False = True\n"
     ]
    }
   ],
   "source": [
    "bol1 = input('True ou False? ')\n",
    "bol2 = input('True ou False? ')\n",
    "if(bol1 == 'True'):\n",
    "    bol1 = True\n",
    "else:\n",
    "    bol1 = False\n",
    "if(bol2 == 'True'):\n",
    "    bol2 = True\n",
    "else:\n",
    "    bol2 = False\n",
    "e = '{} and {} = {}'.format(bol1, bol2, bol1 and bol2)\n",
    "ou = '{} or {} = {}'.format(bol1, bol2, bol1 or bol2)\n",
    "nao1 = 'not {} = {}'.format(bol1, not bol1)\n",
    "nao2 = 'not {} = {}'.format(bol2, not bol2)\n",
    "print('Resultados')\n",
    "print('\\t'+e)\n",
    "print('\\t'+ou)\n",
    "print('\\t'+nao1)\n",
    "print('\\t'+nao2)"
   ]
  },
  {
   "cell_type": "markdown",
   "metadata": {},
   "source": [
    "### Questão 10\n",
    "#### Descrição:\n",
    "  Escreva um programa que solicite ao usuário duas strings e verifique se elas são iguais.\n",
    "  Imprima uma mensagem informando o resultado da comparação."
   ]
  },
  {
   "cell_type": "code",
   "execution_count": 13,
   "metadata": {},
   "outputs": [
    {
     "name": "stdout",
     "output_type": "stream",
     "text": [
      "Abra é diferente a Cadabra\n"
     ]
    }
   ],
   "source": [
    "string1 = input('Informe a 1° palavra: ')\n",
    "string2 = input('Informe a 2° palavra: ')\n",
    "if(string1 == string2):\n",
    "    print('{} é igual a {}'.format(string1, string2))\n",
    "else:\n",
    "    print('{} é diferente a {}'.format(string1, string2))"
   ]
  },
  {
   "cell_type": "markdown",
   "metadata": {},
   "source": [
    "### Questão 11\n",
    "#### Descrição:\n",
    "  Escreva um programa que solicite ao usuário dois números e verifique se o primeiro número é maior que o segundo.\n",
    "  Imprima uma mensagem informando o resultado da comparação."
   ]
  },
  {
   "cell_type": "code",
   "execution_count": 14,
   "metadata": {},
   "outputs": [
    {
     "name": "stdout",
     "output_type": "stream",
     "text": [
      "15.0 é menor que 59.0\n"
     ]
    }
   ],
   "source": [
    "num1 = float(input('informe o 1° número: '))\n",
    "num2 = float(input('informe o 2° número: '))\n",
    "if(num1 > num2):\n",
    "    print('{} é maior que {}'.format(num1, num2))\n",
    "else:\n",
    "    print('{} é menor que {}'.format(num1, num2))"
   ]
  },
  {
   "cell_type": "markdown",
   "metadata": {},
   "source": [
    "### Quetão 12\n",
    "#### Descrição:\n",
    "  Escreva um programa que solicite ao usuário a sua idade e verifique se ele é maior de idade (idade igual ou superior a 18 anos). \n",
    "  Imprima uma mensagem informando o resultado."
   ]
  },
  {
   "cell_type": "code",
   "execution_count": 16,
   "metadata": {},
   "outputs": [
    {
     "name": "stdout",
     "output_type": "stream",
     "text": [
      "Usuário maior de idade\n"
     ]
    }
   ],
   "source": [
    "idade = int(input('Informe sua idade: '))\n",
    "if(idade >= 18):\n",
    "    print('Usuário maior de idade')\n",
    "else:\n",
    "    print('Usuário menor de idade')"
   ]
  },
  {
   "cell_type": "markdown",
   "metadata": {},
   "source": [
    "### Questão 13\n",
    "#### Descrição:\n",
    "  Solicite ao usuário o primeiro número inteiro e armazene-o em uma variável chamada numero1.\n",
    "  Solicite ao usuário o segundo número inteiro e armazene-o em uma variável chamada numero2.\n",
    "  Troque os valores das variáveis numero1 e numero2 utilizando atribuição múltipla. \n",
    "  Imprima os valores atualizados das variáveis utilizando a função print()."
   ]
  },
  {
   "cell_type": "code",
   "execution_count": 17,
   "metadata": {},
   "outputs": [
    {
     "name": "stdout",
     "output_type": "stream",
     "text": [
      "Início: X = 2 e Y = 58\n",
      "Fim: X = 58 e Y = 2\n"
     ]
    }
   ],
   "source": [
    "x = int(input('Informe o 1° número: '))\n",
    "y = int(input('Informe o 2° número: '))\n",
    "print('Início: X = {} e Y = {}'.format(x,y))\n",
    "x,y = y,x\n",
    "print('Fim: X = {} e Y = {}'.format(x,y))"
   ]
  },
  {
   "cell_type": "markdown",
   "metadata": {},
   "source": [
    "### Questão 14\n",
    "#### Descrição:    \n",
    "  Um foguete atinge uma velocidade constante de 1500 m/s. \n",
    "  Se ele voar durante 40 segundos, qual é a altitude que o foguete alcançará?"
   ]
  },
  {
   "cell_type": "code",
   "execution_count": 19,
   "metadata": {},
   "outputs": [
    {
     "name": "stdout",
     "output_type": "stream",
     "text": [
      "1500 m/s * 50 s = 75,000.00 m\n"
     ]
    }
   ],
   "source": [
    "tempo = int(input('Informe quantos segundos passaram: '))\n",
    "print('1500 m/s * {} s = {:,.2f} m'.format(tempo, 1500*tempo))"
   ]
  },
  {
   "cell_type": "markdown",
   "metadata": {},
   "source": [
    "### Questão 15\n",
    "#### Descrição:    \n",
    "  Escreva um programa que dado um dia, mes e ano calcule o valor em termos de UNIX Epoch Time\n",
    "  (o número de milessegundos desde 00:00 de 01 de Janeiro de 1970).\n",
    "  a) Considere que todos os anos possuem 365 dias \n",
    "  b) Considere os anos bissextos"
   ]
  },
  {
   "cell_type": "code",
   "execution_count": 22,
   "metadata": {},
   "outputs": [
    {
     "name": "stdout",
     "output_type": "stream",
     "text": [
      " --- Opções --- \n",
      "\t Janeiro - 1\n",
      "\t Fevereiro - 2\n",
      "\t Março - 3\n",
      "\t Abril - 4\n",
      "\t Maio - 5\n",
      "\t Junho - 6\n",
      "\t Julho - 7\n",
      "\t Agosto - 8\n",
      "\t Setembro - 9\n",
      "\t Outubro - 10\n",
      "\t Novembro - 11\n",
      "\t Desembro - 12\n",
      " --- Opções --- \n",
      "4\n"
     ]
    }
   ],
   "source": [
    "denovo = True\n",
    "\n",
    "anoin = int(input('Insira o Ano: '))\n",
    "\n",
    "print(' --- Opções --- ')\n",
    "print('\\t Janeiro - 1')\n",
    "print('\\t Fevereiro - 2')\n",
    "print('\\t Março - 3')\n",
    "print('\\t Abril - 4')\n",
    "print('\\t Maio - 5')\n",
    "print('\\t Junho - 6')\n",
    "print('\\t Julho - 7')\n",
    "print('\\t Agosto - 8')\n",
    "print('\\t Setembro - 9')\n",
    "print('\\t Outubro - 10')\n",
    "print('\\t Novembro - 11')\n",
    "print('\\t Desembro - 12')\n",
    "print(' --- Opções --- ')\n",
    "\n",
    "while (denovo):\n",
    "    mesin = int(input('Insira o Mês: '))\n",
    "    if(mesin >= 1 and mesin <= 12):\n",
    "        denovo = False\n",
    "    else:\n",
    "        print('Insira uma resposta válida!')\n",
    "\n",
    "diain = int(input('Insira o Dia: '))\n",
    "\n",
    "__temp = anoin - 1970\n",
    "bissextos = __temp // 4\n",
    "\n",
    "print(bissextos)"
   ]
  }
 ],
 "metadata": {
  "kernelspec": {
   "display_name": "Python 3",
   "language": "python",
   "name": "python3"
  },
  "language_info": {
   "codemirror_mode": {
    "name": "ipython",
    "version": 3
   },
   "file_extension": ".py",
   "mimetype": "text/x-python",
   "name": "python",
   "nbconvert_exporter": "python",
   "pygments_lexer": "ipython3",
   "version": "3.11.1"
  },
  "orig_nbformat": 4
 },
 "nbformat": 4,
 "nbformat_minor": 2
}
