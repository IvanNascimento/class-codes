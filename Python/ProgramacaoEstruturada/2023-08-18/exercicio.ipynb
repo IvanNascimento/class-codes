{
 "cells": [
  {
   "cell_type": "markdown",
   "metadata": {},
   "source": [
    "# Atividade da Aula 4, Strings"
   ]
  },
  {
   "cell_type": "markdown",
   "metadata": {},
   "source": [
    "# Criação, Acesso e Fatiamento"
   ]
  },
  {
   "cell_type": "markdown",
   "metadata": {},
   "source": [
    "### Questão 1\n",
    "Crie uma string com seu nome completo e imprima somente o primeiro nome."
   ]
  },
  {
   "cell_type": "code",
   "execution_count": 1,
   "metadata": {},
   "outputs": [
    {
     "name": "stdout",
     "output_type": "stream",
     "text": [
      "Ivan\n"
     ]
    }
   ],
   "source": [
    "nome = \"Ivan Luís Silva do Nascimento\"\n",
    "print(nome[:4])"
   ]
  },
  {
   "cell_type": "markdown",
   "metadata": {},
   "source": [
    "### Questão 2\n",
    "Dada a string \"Python é uma linguagem de programação\", imprima somente a palavra \"linguagem\"."
   ]
  },
  {
   "cell_type": "code",
   "execution_count": 3,
   "metadata": {},
   "outputs": [
    {
     "name": "stdout",
     "output_type": "stream",
     "text": [
      "linguagem\n"
     ]
    }
   ],
   "source": [
    "string = \"Python é uma linguagem de programação\"\n",
    "print(string[13:22])"
   ]
  },
  {
   "cell_type": "markdown",
   "metadata": {},
   "source": [
    "### Questão 3\n",
    "Escreva um código que inverta uma string. Por exemplo, se a entrada for \"python\", a saída deve ser \"nohtyp\"."
   ]
  },
  {
   "cell_type": "code",
   "execution_count": 13,
   "metadata": {},
   "outputs": [
    {
     "name": "stdout",
     "output_type": "stream",
     "text": [
      "omordnilap\n"
     ]
    }
   ],
   "source": [
    "string = input('Informe a palavra: ')\n",
    "print(string[::-1])"
   ]
  },
  {
   "cell_type": "markdown",
   "metadata": {},
   "source": [
    "### Questão 4\n",
    "Dada a string \"abcdefg\", use o operador de fatiamento para imprimir \"cde\"."
   ]
  },
  {
   "cell_type": "code",
   "execution_count": 6,
   "metadata": {},
   "outputs": [
    {
     "name": "stdout",
     "output_type": "stream",
     "text": [
      "cde\n"
     ]
    }
   ],
   "source": [
    "string = \"abcdefg\"\n",
    "print(string[2:5])"
   ]
  },
  {
   "cell_type": "markdown",
   "metadata": {},
   "source": [
    "### Questão 5\n",
    "Escreva um programa que verifique se uma palavra é um palíndromo (lê-se igual de trás para frente). Exemplo: \"radar\"."
   ]
  },
  {
   "cell_type": "code",
   "execution_count": 9,
   "metadata": {},
   "outputs": [
    {
     "name": "stdout",
     "output_type": "stream",
     "text": [
      "radar é palíndromo\n"
     ]
    }
   ],
   "source": [
    "palavra = input('Informe a palavra: ')\n",
    "if(palavra == palavra[::-1]):\n",
    "    print('{} é palíndromo'.format(palavra))\n",
    "else:\n",
    "    print('{} não é palíndromo'.format(palavra))"
   ]
  },
  {
   "cell_type": "markdown",
   "metadata": {},
   "source": [
    "# Formatação"
   ]
  },
  {
   "cell_type": "markdown",
   "metadata": {},
   "source": [
    "### Questão 1\n",
    "Escreva um programa que solicite ao usuário seu nome e idade e imprima uma mensagem formatada no seguinte formato: \"Olá, {nome}! Você tem {idade} anos.\"\n"
   ]
  },
  {
   "cell_type": "markdown",
   "metadata": {},
   "source": [
    "### Questão 2\n",
    "Escreva um programa que solicite ao usuário dois números e imprima uma mensagem formatada mostrando a soma, subtração, multiplicação e divisão dos números. Por exemplo: \"A soma de {num1} e {num2} é {soma}.\""
   ]
  },
  {
   "cell_type": "markdown",
   "metadata": {},
   "source": [
    "### Questão 3\n",
    "Escreva um programa que solicite ao usuário uma frase e substitua todas as vogais por asteriscos (*). Em seguida, imprima a frase formatada."
   ]
  },
  {
   "cell_type": "markdown",
   "metadata": {},
   "source": [
    "### Questão 4\n",
    "Escreva um programa que solicite ao usuário seu nome completo e imprima as iniciais de cada palavra em letras maiúsculas. Por exemplo, se o nome for \"Fulano de Tal\", o programa deve imprimir \"F.D.T.\""
   ]
  },
  {
   "cell_type": "markdown",
   "metadata": {},
   "source": [
    "### Questão 5\n",
    "Escreva um programa que solicite ao usuário uma quantidade de horas, minutos e segundos, e imprima uma mensagem formatada mostrando o total de segundos. Por exemplo: \"O total de segundos é {total_segundos}.\""
   ]
  },
  {
   "cell_type": "markdown",
   "metadata": {},
   "source": [
    "### Questão 6\n",
    "Escreva um programa que solicite ao usuário uma frase e imprima uma mensagem formatada mostrando a quantidade de caracteres, palavras e linhas na frase."
   ]
  },
  {
   "cell_type": "markdown",
   "metadata": {},
   "source": [
    "### Questão 7\n",
    "Escreva um programa que solicite ao usuário um número decimal e imprima uma mensagem formatada mostrando o número com duas casas decimais."
   ]
  },
  {
   "cell_type": "markdown",
   "metadata": {},
   "source": [
    "### Questão 8\n",
    "Escreva um programa que solicite ao usuário uma palavra e imprima uma mensagem formatada mostrando a palavra em caixa alta e caixa baixa.\n"
   ]
  },
  {
   "cell_type": "markdown",
   "metadata": {},
   "source": [
    "### Questão 9\n",
    "Escreva um programa que solicite ao usuário um nome e um número inteiro e imprima uma mensagem formatada repetindo o nome o número de vezes especificado. Por exemplo, se o nome for \"João\" e o número for 3, o programa deve imprimir \"JoãoJoãoJoão\"."
   ]
  },
  {
   "cell_type": "markdown",
   "metadata": {},
   "source": [
    "# Manipulação"
   ]
  },
  {
   "cell_type": "markdown",
   "metadata": {},
   "source": [
    "### Questão 1\n",
    "Escreva um programa que peça ao usuário para digitar seu nome completo e imprima apenas o primeiro nome.\n"
   ]
  },
  {
   "cell_type": "markdown",
   "metadata": {},
   "source": [
    "### Questão 2\n",
    "Escreva um programa que solicite ao usuário para digitar uma frase e conte quantas palavras existem na frase.\n"
   ]
  },
  {
   "cell_type": "markdown",
   "metadata": {},
   "source": [
    "### Questão 3\n",
    "Escreva um programa que solicite ao usuário para digitar uma frase e verifique se ela termina com um ponto final.\n"
   ]
  },
  {
   "cell_type": "markdown",
   "metadata": {},
   "source": [
    "### Questão 4\n",
    "Escreva um programa que solicite ao usuário para digitar uma frase e verifique se ela contém a palavra \"Python\".\n"
   ]
  },
  {
   "cell_type": "markdown",
   "metadata": {},
   "source": [
    "### Questão 5\n",
    "Escreva um programa que solicite ao usuário para digitar uma frase e substitua todas as ocorrências da letra \"a\" por \"@\".\n"
   ]
  },
  {
   "cell_type": "markdown",
   "metadata": {},
   "source": [
    "### Questão 6\n",
    "Escreva um programa que solicite ao usuário para digitar seu nome e imprima-o em formato invertido. Por exemplo, se o nome for \"João Silva\", o programa deve imprimir \"avliS oãoJ\".\n"
   ]
  },
  {
   "cell_type": "markdown",
   "metadata": {},
   "source": [
    "### Questão 7\n",
    "Escreva um programa que solicite ao usuário para digitar uma frase e conte quantas vezes uma determinada letra aparece na frase.\n"
   ]
  },
  {
   "cell_type": "markdown",
   "metadata": {},
   "source": [
    "### Questão 8\n",
    "Escreva um programa que solicite ao usuário para digitar uma frase e verifique se todas as palavras estão em letras maiúsculas.\n"
   ]
  },
  {
   "cell_type": "markdown",
   "metadata": {},
   "source": [
    "### Questão 9\n",
    "Escreva um programa que solicite ao usuário para digitar uma palavra e verifique se ela é um palíndromo.\n"
   ]
  },
  {
   "cell_type": "markdown",
   "metadata": {},
   "source": [
    "### Questão 10\n",
    "Escreva um programa que solicite ao usuário para digitar seu endereço de e-mail e extraia o nome de usuário (parte antes do \"@\") e o domínio (parte depois do \"@\").\n"
   ]
  },
  {
   "cell_type": "markdown",
   "metadata": {},
   "source": [
    "# Métodos"
   ]
  },
  {
   "cell_type": "markdown",
   "metadata": {},
   "source": [
    "### Questão 1\n",
    "Escreva um programa que remova todos os espaços em branco de uma string."
   ]
  },
  {
   "cell_type": "code",
   "execution_count": 7,
   "metadata": {},
   "outputs": [
    {
     "name": "stdout",
     "output_type": "stream",
     "text": [
      "sada  sad\n"
     ]
    }
   ],
   "source": [
    "string = str(input('Informe a frase: '))\n",
    "saida = string.strip()\n",
    "print(saida)"
   ]
  },
  {
   "cell_type": "markdown",
   "metadata": {},
   "source": [
    "### Questão 2\n",
    "Escreva um programa que peça ao usuário para digitar uma frase e imprima o número de caracteres na frase.\n"
   ]
  },
  {
   "cell_type": "markdown",
   "metadata": {},
   "source": [
    "### Questão 3\n",
    "Escreva um programa que solicite ao usuário para digitar seu nome em letras minúsculas e, em seguida, imprima o nome com a primeira letra em maiúscula.\n"
   ]
  },
  {
   "cell_type": "markdown",
   "metadata": {},
   "source": [
    "### Questão 4\n",
    "Escreva um programa que solicite ao usuário para digitar uma frase e, em seguida, imprima a frase em todas as letras maiúsculas e todas as letras minúsculas.\n"
   ]
  },
  {
   "cell_type": "markdown",
   "metadata": {},
   "source": [
    "### Questão 5\n",
    "Escreva um programa que solicite ao usuário para digitar uma frase e, em seguida, divida a frase em palavras individuais e as imprima em linhas separadas.\n"
   ]
  },
  {
   "cell_type": "markdown",
   "metadata": {},
   "source": [
    "### Questão 6\n",
    "Escreva um programa que substitua todas as ocorrências de uma determinada palavra em uma frase por outra palavra fornecida pelo usuário.\n"
   ]
  },
  {
   "cell_type": "markdown",
   "metadata": {},
   "source": [
    "### Questão 7\n",
    "Escreva um programa que peça ao usuário para digitar seu nome completo e, em seguida, imprima apenas o sobrenome.\n"
   ]
  },
  {
   "cell_type": "markdown",
   "metadata": {},
   "source": [
    "### Questão 8\n",
    "Escreva um programa que solicite ao usuário para digitar uma palavra e, em seguida, verifique se a palavra é um palíndromo (ou seja, se pode ser lida da mesma forma da esquerda para a direita e vice-versa).\n"
   ]
  },
  {
   "cell_type": "markdown",
   "metadata": {},
   "source": [
    "### Questão 9\n",
    "Crie uma função que receba uma frase e retorne a mesma frase com todas as vogais substituídas por asteriscos (*).\n"
   ]
  },
  {
   "cell_type": "markdown",
   "metadata": {},
   "source": [
    "### Questão 10\n",
    "Escreva um código que capitalize a primeira letra de cada palavra em uma frase. Exemplo: \"python é incrível\" deve se tornar \"Python É Incrível\".\n"
   ]
  },
  {
   "cell_type": "markdown",
   "metadata": {},
   "source": [
    "### Questão 11\n",
    "Dada uma lista de strings, ordene-a em ordem crescente de comprimento das strings.\n"
   ]
  },
  {
   "cell_type": "markdown",
   "metadata": {},
   "source": [
    "### Questão 12\n",
    "Escreva um programa que solicite ao usuário para digitar uma frase e, em seguida, conte quantas vezes uma determinada letra aparece na frase.\n"
   ]
  },
  {
   "cell_type": "markdown",
   "metadata": {},
   "source": [
    "### Questão 13\n",
    "Escreva um programa que solicite ao usuário para digitar seu nome e, em seguida, imprima as iniciais do nome em letras maiúsculas.\n"
   ]
  },
  {
   "cell_type": "markdown",
   "metadata": {},
   "source": [
    "### Questão 14\n",
    "Escreva um programa que solicite ao usuário para digitar uma frase e, em seguida, imprima a frase invertida."
   ]
  }
 ],
 "metadata": {
  "kernelspec": {
   "display_name": "Python 3",
   "language": "python",
   "name": "python3"
  },
  "language_info": {
   "codemirror_mode": {
    "name": "ipython",
    "version": 3
   },
   "file_extension": ".py",
   "mimetype": "text/x-python",
   "name": "python",
   "nbconvert_exporter": "python",
   "pygments_lexer": "ipython3",
   "version": "3.11.1"
  },
  "orig_nbformat": 4
 },
 "nbformat": 4,
 "nbformat_minor": 2
}
