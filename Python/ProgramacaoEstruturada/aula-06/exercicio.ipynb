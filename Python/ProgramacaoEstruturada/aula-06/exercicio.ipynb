{
 "cells": [
  {
   "cell_type": "markdown",
   "metadata": {},
   "source": [
    "# Exercíco 6, Estruturas de Repetição"
   ]
  },
  {
   "cell_type": "markdown",
   "metadata": {},
   "source": [
    "## Questão 1 ✔️\n",
    " - Escreva um programa que imprima todos os números pares de 0 a 50 utilizando um loop \"for\"."
   ]
  },
  {
   "cell_type": "code",
   "execution_count": 3,
   "metadata": {},
   "outputs": [
    {
     "name": "stdout",
     "output_type": "stream",
     "text": [
      "0\n",
      "2\n",
      "4\n",
      "6\n",
      "8\n",
      "10\n",
      "12\n",
      "14\n",
      "16\n",
      "18\n",
      "20\n",
      "22\n",
      "24\n",
      "26\n",
      "28\n",
      "30\n",
      "32\n",
      "34\n",
      "36\n",
      "38\n",
      "40\n",
      "42\n",
      "44\n",
      "46\n",
      "48\n",
      "50\n"
     ]
    }
   ],
   "source": [
    "for i in range(51):\n",
    "    if(i % 2 == 0):\n",
    "        print(i)"
   ]
  },
  {
   "cell_type": "markdown",
   "metadata": {},
   "source": [
    "\n",
    "## Questão 2 ✔️\n",
    " - Escreva um programa que peça ao usuário para digitar um número e, em seguida, imprima a tabuada desse número (de 1 a 10) utilizando um loop \"for\"."
   ]
  },
  {
   "cell_type": "code",
   "execution_count": 6,
   "metadata": {},
   "outputs": [
    {
     "name": "stdout",
     "output_type": "stream",
     "text": [
      "5.70 x 1.00 = 5.70\n",
      "5.70 x 2.00 = 11.40\n",
      "5.70 x 3.00 = 17.10\n",
      "5.70 x 4.00 = 22.80\n",
      "5.70 x 5.00 = 28.50\n",
      "5.70 x 6.00 = 34.20\n",
      "5.70 x 7.00 = 39.90\n",
      "5.70 x 8.00 = 45.60\n",
      "5.70 x 9.00 = 51.30\n",
      "5.70 x 10.00 = 57.00\n"
     ]
    }
   ],
   "source": [
    "num = float(input('Informe o número: '))\n",
    "\n",
    "for i in range(10):\n",
    "    print(f'{num:,.2f} x {i+1:,.2f} = {num*(i+1):,.2f}')"
   ]
  },
  {
   "cell_type": "markdown",
   "metadata": {},
   "source": [
    "## Questão 3 ✔️\n",
    " - Escreva um programa que peça ao usuário para digitar uma palavra e, em seguida, imprima cada letra da palavra em uma linha separada utilizando um loop \"for\".\n"
   ]
  },
  {
   "cell_type": "code",
   "execution_count": 7,
   "metadata": {},
   "outputs": [
    {
     "name": "stdout",
     "output_type": "stream",
     "text": [
      "a\n",
      "r\n",
      "a\n",
      "r\n",
      "a\n"
     ]
    }
   ],
   "source": [
    "palavra = input('Informe a palavra: ')\n",
    "\n",
    "for i in palavra:\n",
    "    print(f'{i}')"
   ]
  },
  {
   "cell_type": "markdown",
   "metadata": {},
   "source": [
    "## Questão 4 ✔️\n",
    " - Escreva um programa que utilize um loop \"for\" para calcular a soma de todos os números ímpares de 1 a 100.\n"
   ]
  },
  {
   "cell_type": "code",
   "execution_count": 8,
   "metadata": {},
   "outputs": [
    {
     "name": "stdout",
     "output_type": "stream",
     "text": [
      "2500\n"
     ]
    }
   ],
   "source": [
    "soma = 0\n",
    "for i in range(101):\n",
    "    if(i % 2 != 0):\n",
    "        soma += i\n",
    "print(soma)"
   ]
  },
  {
   "cell_type": "markdown",
   "metadata": {},
   "source": [
    "## Questão 5 ✔️\n",
    " - Escreva um programa que peça ao usuário para digitar uma frase e, em seguida, conte quantas vogais (a, e, i, o, u) existem na frase utilizando um loop \"for\"."
   ]
  },
  {
   "cell_type": "code",
   "execution_count": 9,
   "metadata": {},
   "outputs": [
    {
     "name": "stdout",
     "output_type": "stream",
     "text": [
      "3\n"
     ]
    }
   ],
   "source": [
    "frase = input('Informe a frase: ')\n",
    "vogais = ['a','e','i','o','u']\n",
    "qtd = 0\n",
    "\n",
    "for i in frase:\n",
    "    if i in vogais:\n",
    "        qtd+=1\n",
    "print(qtd)"
   ]
  },
  {
   "cell_type": "markdown",
   "metadata": {},
   "source": [
    "## Questão 6 ✔️\n",
    " - Escreva um programa que peça ao usuário para digitar uma palavra e, em seguida, imprima a palavra ao contrário utilizando um loop \"for\".\n"
   ]
  },
  {
   "cell_type": "code",
   "execution_count": 10,
   "metadata": {},
   "outputs": [
    {
     "name": "stdout",
     "output_type": "stream",
     "text": [
      "subino\n"
     ]
    }
   ],
   "source": [
    "palavra = input('Informe a palavra: ')\n",
    "nova_palavra = ''\n",
    "\n",
    "for i in palavra[::-1]:\n",
    "    nova_palavra += i\n",
    "print(nova_palavra)"
   ]
  },
  {
   "cell_type": "markdown",
   "metadata": {},
   "source": [
    "## Questão 7 ✔️\n",
    " - Escreva um programa que utilize um loop \"while\" para imprimir os números de 1 a 10."
   ]
  },
  {
   "cell_type": "code",
   "execution_count": 13,
   "metadata": {},
   "outputs": [
    {
     "name": "stdout",
     "output_type": "stream",
     "text": [
      "1\n",
      "2\n",
      "3\n",
      "4\n",
      "5\n",
      "6\n",
      "7\n",
      "8\n",
      "9\n",
      "10\n"
     ]
    }
   ],
   "source": [
    "i = 0\n",
    "while i < 10:\n",
    "    print(i+1)\n",
    "    i+=1"
   ]
  },
  {
   "cell_type": "markdown",
   "metadata": {},
   "source": [
    "## Questão 8 ✔️\n",
    " - Escreva um programa que peça ao usuário para adivinhar um número secreto entre 1 e 100. O programa deve informar se o palpite é muito alto, muito baixo ou correto. Continue pedindo ao usuário para adivinhar até que ele acerte o número utilizando um loop \"while\".\n"
   ]
  },
  {
   "cell_type": "code",
   "execution_count": 23,
   "metadata": {},
   "outputs": [
    {
     "name": "stdout",
     "output_type": "stream",
     "text": [
      "Um pouco mais\n",
      "Um pouco mais\n",
      "Um pouco mais\n",
      "Um pouco menos\n",
      "Um pouco mais\n",
      "Um pouco mais\n",
      "Um pouco mais\n",
      "Um pouco mais\n",
      "Um pouco mais\n",
      "Parabens, voce acertou!!!\n"
     ]
    }
   ],
   "source": [
    "from random import randrange\n",
    "num = randrange(100)\n",
    "\n",
    "while True:\n",
    "    chute = int(input('Qual o número? '))    \n",
    "    if(chute == num):\n",
    "        print('Parabens, voce acertou!!!')\n",
    "        break\n",
    "    if(chute > num):\n",
    "        print('Um pouco menos')\n",
    "    else:\n",
    "        print('Um pouco mais')"
   ]
  },
  {
   "cell_type": "markdown",
   "metadata": {},
   "source": [
    "## Questão 9 ✔️\n",
    " - Escreva um programa que peça ao usuário para digitar uma série de números (um por linha) e pare quando o usuário digitar um número negativo. Em seguida, calcule e imprima a média dos números digitados."
   ]
  },
  {
   "cell_type": "code",
   "execution_count": 25,
   "metadata": {},
   "outputs": [
    {
     "name": "stdout",
     "output_type": "stream",
     "text": [
      "a média é 185.11\n"
     ]
    }
   ],
   "source": [
    "total = 0\n",
    "qtd = 0\n",
    "\n",
    "while True:\n",
    "    num = int(input('Informe o número: '))\n",
    "    if(num < 0):\n",
    "        break\n",
    "    qtd+=1\n",
    "    total += num\n",
    "\n",
    "print(f'a média é {total/qtd:,.2f}')"
   ]
  },
  {
   "cell_type": "markdown",
   "metadata": {},
   "source": [
    "## Questão 10 ✔️\n",
    " - Escreva um programa que peça ao usuário para digitar uma senha e continue pedindo até que o usuário digite a senha correta. Quando a senha estiver correta, imprima uma mensagem de boas-vindas."
   ]
  },
  {
   "cell_type": "code",
   "execution_count": null,
   "metadata": {},
   "outputs": [],
   "source": [
    "senha = 'P@ssW0rdy'\n",
    "while True:\n",
    "    entrada = input('Informe a senha: ')\n",
    "    if (entrada == senha):\n",
    "        print('Boas-vindas')\n",
    "        break\n",
    "    print('Senha errada, tente novamente')"
   ]
  },
  {
   "cell_type": "markdown",
   "metadata": {},
   "source": [
    "## Questão 11 ✔️\n",
    " - Escreva um programa que utilize um loop \"for\" e a função range() para imprimir todos os números pares de 0 a 20."
   ]
  },
  {
   "cell_type": "code",
   "execution_count": 26,
   "metadata": {},
   "outputs": [
    {
     "name": "stdout",
     "output_type": "stream",
     "text": [
      "0\n",
      "2\n",
      "4\n",
      "6\n",
      "8\n",
      "10\n",
      "12\n",
      "14\n",
      "16\n",
      "18\n",
      "20\n"
     ]
    }
   ],
   "source": [
    "for i in range(21):\n",
    "    if(i % 2 ==0):\n",
    "        print(i)"
   ]
  },
  {
   "cell_type": "markdown",
   "metadata": {},
   "source": [
    "## Questão 12 ✔️\n",
    " - Dada a lista de frutas e a lista de cores abaixo, utilize a função zip() e um loop \"for\" para imprimir cada fruta com sua respectiva cor.\n",
    "\n",
    "```python\n",
    "  frutas = ['maçã', 'banana', 'laranja', 'uva']\n",
    "  cores = ['vermelho', 'amarelo', 'laranja', 'roxa']\n",
    "\n",
    "```"
   ]
  },
  {
   "cell_type": "code",
   "execution_count": 27,
   "metadata": {},
   "outputs": [
    {
     "name": "stdout",
     "output_type": "stream",
     "text": [
      "('maçã', 'vermelho')\n",
      "('banana', 'amarelo')\n",
      "('laranja', 'laranja')\n",
      "('uva', 'roxa')\n"
     ]
    }
   ],
   "source": [
    "frutas = ['maçã', 'banana', 'laranja', 'uva']\n",
    "cores = ['vermelho', 'amarelo', 'laranja', 'roxa']\n",
    "\n",
    "for i in zip(frutas, cores):\n",
    "    print(i)"
   ]
  },
  {
   "cell_type": "markdown",
   "metadata": {},
   "source": [
    "## Questão 13 ✔️\n",
    " - Utilize a função enumerate() e um loop \"for\" para imprimir os elementos da lista numeros abaixo, juntamente com seus índices."
   ]
  },
  {
   "cell_type": "code",
   "execution_count": 29,
   "metadata": {},
   "outputs": [
    {
     "name": "stdout",
     "output_type": "stream",
     "text": [
      "(1, 'a')\n",
      "(2, 'b')\n",
      "(3, 'c')\n",
      "(4, 'd')\n",
      "(5, 'e')\n"
     ]
    }
   ],
   "source": [
    "lista = ['a', 'b', 'c', 'd', 'e']\n",
    "for i in enumerate(lista, start=1):\n",
    "    print(i)"
   ]
  },
  {
   "cell_type": "markdown",
   "metadata": {},
   "source": [
    "## Questão 14 ✔️\n",
    " - Escreva um programa que utilize um loop \"for\" e a função reversed() para imprimir os números de 10 a 1 em ordem decrescente."
   ]
  },
  {
   "cell_type": "code",
   "execution_count": 31,
   "metadata": {},
   "outputs": [
    {
     "name": "stdout",
     "output_type": "stream",
     "text": [
      "10\n",
      "9\n",
      "8\n",
      "7\n",
      "6\n",
      "5\n",
      "4\n",
      "3\n",
      "2\n",
      "1\n"
     ]
    }
   ],
   "source": [
    "for i in reversed(range(10)):\n",
    "    print(i+1)"
   ]
  },
  {
   "cell_type": "markdown",
   "metadata": {},
   "source": [
    "## Questão 15 ✔️\n",
    " - Dada a lista de números abaixo, utilize a função sorted() e um loop \"for\" para imprimir os números em ordem crescente."
   ]
  },
  {
   "cell_type": "code",
   "execution_count": 33,
   "metadata": {},
   "outputs": [
    {
     "name": "stdout",
     "output_type": "stream",
     "text": [
      "1\n",
      "2\n",
      "3\n",
      "4\n",
      "5\n",
      "6\n",
      "7\n",
      "8\n",
      "9\n"
     ]
    }
   ],
   "source": [
    "lista = [9,8,7,6,5,4,3,2,1]\n",
    "\n",
    "for i in sorted(lista):\n",
    "    print(i)"
   ]
  }
 ],
 "metadata": {
  "kernelspec": {
   "display_name": "Python 3",
   "language": "python",
   "name": "python3"
  },
  "language_info": {
   "codemirror_mode": {
    "name": "ipython",
    "version": 3
   },
   "file_extension": ".py",
   "mimetype": "text/x-python",
   "name": "python",
   "nbconvert_exporter": "python",
   "pygments_lexer": "ipython3",
   "version": "3.11.1"
  },
  "orig_nbformat": 4
 },
 "nbformat": 4,
 "nbformat_minor": 2
}
